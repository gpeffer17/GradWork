{
 "cells": [
  {
   "cell_type": "code",
   "execution_count": null,
   "id": "0c1eb9dd",
   "metadata": {},
   "outputs": [],
   "source": [
    "# Data Preparation"
   ]
  },
  {
   "cell_type": "code",
   "execution_count": 1,
   "id": "df511cc6",
   "metadata": {},
   "outputs": [],
   "source": [
    "# import common libraries\n",
    "import pandas as pd\n",
    "import numpy as np\n",
    "from sklearn.model_selection import train_test_split\n",
    "from sklearn import metrics\n",
    "from matplotlib import pyplot as plt"
   ]
  },
  {
   "cell_type": "code",
   "execution_count": 2,
   "id": "36bb82fa",
   "metadata": {},
   "outputs": [],
   "source": [
    "dfGP = pd.read_csv(\"BankChurn.csv\")"
   ]
  },
  {
   "cell_type": "code",
   "execution_count": 3,
   "id": "2af2a4f2",
   "metadata": {},
   "outputs": [
    {
     "name": "stdout",
     "output_type": "stream",
     "text": [
      "<class 'pandas.core.frame.DataFrame'>\n",
      "RangeIndex: 10000 entries, 0 to 9999\n",
      "Data columns (total 12 columns):\n",
      " #   Column            Non-Null Count  Dtype  \n",
      "---  ------            --------------  -----  \n",
      " 0   customer_id       10000 non-null  int64  \n",
      " 1   credit_score      10000 non-null  int64  \n",
      " 2   country           9994 non-null   object \n",
      " 3   gender            9993 non-null   object \n",
      " 4   age               9999 non-null   float64\n",
      " 5   tenure            9998 non-null   float64\n",
      " 6   balance           6383 non-null   float64\n",
      " 7   products_number   9995 non-null   float64\n",
      " 8   credit_card       9998 non-null   float64\n",
      " 9   active_member     9999 non-null   float64\n",
      " 10  estimated_salary  9998 non-null   float64\n",
      " 11  churn             10000 non-null  int64  \n",
      "dtypes: float64(7), int64(3), object(2)\n",
      "memory usage: 937.6+ KB\n"
     ]
    },
    {
     "data": {
      "text/plain": [
       "customer_id            0\n",
       "credit_score           0\n",
       "country                6\n",
       "gender                 7\n",
       "age                    1\n",
       "tenure                 2\n",
       "balance             3617\n",
       "products_number        5\n",
       "credit_card            2\n",
       "active_member          1\n",
       "estimated_salary       2\n",
       "churn                  0\n",
       "dtype: int64"
      ]
     },
     "execution_count": 3,
     "metadata": {},
     "output_type": "execute_result"
    }
   ],
   "source": [
    "dfGP.head()\n",
    "dfGP.info()\n",
    "dfGP.isnull().sum()"
   ]
  },
  {
   "cell_type": "code",
   "execution_count": 4,
   "id": "16330f66",
   "metadata": {},
   "outputs": [],
   "source": [
    "# Drop customer_id column\n",
    "dfGP=dfGP.drop([\"customer_id\"], axis=1)"
   ]
  },
  {
   "cell_type": "code",
   "execution_count": 5,
   "id": "e6d9033b",
   "metadata": {},
   "outputs": [
    {
     "name": "stdout",
     "output_type": "stream",
     "text": [
      "<class 'pandas.core.frame.DataFrame'>\n",
      "Int64Index: 6377 entries, 1 to 9999\n",
      "Data columns (total 11 columns):\n",
      " #   Column            Non-Null Count  Dtype  \n",
      "---  ------            --------------  -----  \n",
      " 0   credit_score      6377 non-null   int64  \n",
      " 1   country           6377 non-null   object \n",
      " 2   gender            6377 non-null   object \n",
      " 3   age               6377 non-null   float64\n",
      " 4   tenure            6377 non-null   float64\n",
      " 5   balance           6377 non-null   float64\n",
      " 6   products_number   6377 non-null   float64\n",
      " 7   credit_card       6377 non-null   float64\n",
      " 8   active_member     6377 non-null   float64\n",
      " 9   estimated_salary  6377 non-null   float64\n",
      " 10  churn             6377 non-null   int64  \n",
      "dtypes: float64(7), int64(2), object(2)\n",
      "memory usage: 597.8+ KB\n"
     ]
    }
   ],
   "source": [
    "dfGP=dfGP.dropna()\n",
    "dfGP.info()"
   ]
  },
  {
   "cell_type": "code",
   "execution_count": 6,
   "id": "aefc4ffa",
   "metadata": {},
   "outputs": [],
   "source": [
    "dfGP = pd.get_dummies(dfGP, drop_first=True, dtype = int)"
   ]
  },
  {
   "cell_type": "code",
   "execution_count": 8,
   "id": "6d6f7967",
   "metadata": {},
   "outputs": [],
   "source": [
    "y= np.array(dfGP[\"churn\"])\n",
    "X = dfGP[[\"credit_score\", \"age\", \"tenure\", \"balance\", \"products_number\", \"credit_card\", \"active_member\", \"estimated_salary\", \"country_Germany\", \"country_Spain\", \"gender_Male\"]]\n",
    "X_train, X_test, y_train, y_test = train_test_split(X, y, test_size=0.3, random_state=42)"
   ]
  },
  {
   "cell_type": "code",
   "execution_count": 11,
   "id": "2076507e",
   "metadata": {},
   "outputs": [
    {
     "name": "stdout",
     "output_type": "stream",
     "text": [
      "\n",
      "Accuracy: 0.7507836990595611\n",
      "\n",
      "Confusion Matrix:\n",
      " [[1181  269]\n",
      " [ 208  256]]\n"
     ]
    }
   ],
   "source": [
    "from sklearn.tree import DecisionTreeClassifier\n",
    "clf_gini_gp = DecisionTreeClassifier(criterion='gini', random_state=42)\n",
    "\n",
    "# Train Model\n",
    "clf_gini_gp.fit(X_train, y_train)\n",
    "y_pred_dt = clf_gini_gp.predict(X_test)\n",
    "accuracy = metrics.accuracy_score(y_test, y_pred_dt)\n",
    "\n",
    "conf_matrix = metrics.confusion_matrix(y_test, y_pred_dt)\n",
    "\n",
    "print(\"\\nAccuracy:\", accuracy)\n",
    "print(\"\\nConfusion Matrix:\\n\", conf_matrix)"
   ]
  },
  {
   "cell_type": "code",
   "execution_count": 12,
   "id": "3027af07",
   "metadata": {},
   "outputs": [
    {
     "name": "stdout",
     "output_type": "stream",
     "text": [
      "\n",
      "Accuracy: 0.8322884012539185\n",
      "\n",
      "Confusion Matrix:\n",
      " [[1385   65]\n",
      " [ 256  208]]\n"
     ]
    }
   ],
   "source": [
    "# First Random Forest Clasifier with n_estimators=100\n",
    "\n",
    "from sklearn.ensemble import RandomForestClassifier\n",
    "clf_gp = RandomForestClassifier(n_estimators=100, random_state=42)\n",
    "\n",
    "clf_gp.fit(X_train, y_train)\n",
    "\n",
    "y_pred_rf = clf_gp.predict(X_test)\n",
    "\n",
    "accuracy = metrics.accuracy_score(y_test, y_pred_rf)\n",
    "\n",
    "conf_matrix = metrics.confusion_matrix(y_test, y_pred_rf)\n",
    "\n",
    "print(\"\\nAccuracy:\", accuracy)\n",
    "print(\"\\nConfusion Matrix:\\n\", conf_matrix)\n"
   ]
  },
  {
   "cell_type": "code",
   "execution_count": 13,
   "id": "8da40129",
   "metadata": {},
   "outputs": [
    {
     "name": "stdout",
     "output_type": "stream",
     "text": [
      "\n",
      "Accuracy: 0.8390804597701149\n",
      "\n",
      "Confusion Matrix:\n",
      " [[1382   68]\n",
      " [ 240  224]]\n"
     ]
    }
   ],
   "source": [
    "# Second Random forest classifier with n_estimators set to \n",
    "clf500_gp = RandomForestClassifier(n_estimators=500, random_state=42)\n",
    "clf500_gp.fit(X_train, y_train)\n",
    "\n",
    "\n",
    "y_pred_rf = clf500_gp.predict(X_test)\n",
    "\n",
    "accuracy = metrics.accuracy_score(y_test, y_pred_rf)\n",
    "\n",
    "conf_matrix = metrics.confusion_matrix(y_test, y_pred_rf)\n",
    "\n",
    "print(\"\\nAccuracy:\", accuracy)\n",
    "print(\"\\nConfusion Matrix:\\n\", conf_matrix)\n"
   ]
  },
  {
   "cell_type": "code",
   "execution_count": 31,
   "id": "799b3cbe",
   "metadata": {},
   "outputs": [
    {
     "name": "stdout",
     "output_type": "stream",
     "text": [
      "Start search time: 2024-03-04 12:52:10.287407\n",
      "Fitting 5 folds for each of 36 candidates, totalling 180 fits\n",
      "Best parameters: {'criterion': 'gini', 'max_depth': 8, 'max_features': 'sqrt', 'n_estimators': 300}\n",
      "Best estimator: RandomForestClassifier(max_depth=8, max_features='sqrt', n_estimators=300,\n",
      "                       random_state=42)\n",
      "Feature importance: [0.06072637 0.35650353 0.0291952  0.08827388 0.23448558 0.00598403\n",
      " 0.08489385 0.06328757 0.0477641  0.00610328 0.02278261]\n",
      "End search time: 2024-03-04 12:54:30.745404\n",
      "\n",
      "Accuracy: 0.8380355276907001\n"
     ]
    },
    {
     "data": {
      "image/png": "[encoded data removed]",
      "text/plain": [
       "<Figure size 432x288 with 2 Axes>"
      ]
     },
     "metadata": {
      "needs_background": "light"
     },
     "output_type": "display_data"
    }
   ],
   "source": [
    "# Fine tune Random Forest Classifier\n",
    "from datetime import datetime\n",
    "print(\"Start search time:\", datetime.now())\n",
    "\n",
    "from sklearn.ensemble import RandomForestClassifier\n",
    "\n",
    "# find the best parameters \n",
    "from sklearn.model_selection import GridSearchCV\n",
    "\n",
    "# RF -- Tunning parameters \n",
    "# Define the parameter grid\n",
    "param = {\n",
    "    'n_estimators': [100, 200, 300],  # Number of trees in the forest\n",
    "    'max_features': ['sqrt', 'log2'],  # Number of features to consider at every split\n",
    "    'max_depth': [4, 6, 8],  # Maximum number of levels in tree\n",
    "    'criterion': ['gini', 'entropy']  # Function to measure the quality of a split\n",
    "}\n",
    "\n",
    "RF = RandomForestClassifier(random_state=42)\n",
    "\n",
    "# search parameters: cv=cross validation blocks; verbose=higher value show more steps\n",
    "# n_jobs=-1 uses all available CPU cores; \n",
    "grid = GridSearchCV(estimator=RF, \n",
    "                    param_grid=param,\n",
    "                    scoring=\"accuracy\",\n",
    "                    verbose=1, cv=5)\n",
    "\n",
    "grid.fit(X_train, y_train)\n",
    "\n",
    "print(\"Best parameters:\", grid.best_params_)\n",
    "\n",
    "print(\"Best estimator:\", grid.best_estimator_)\n",
    "\n",
    "print(\"Feature importance:\", grid.best_estimator_.feature_importances_)\n",
    "\n",
    "# end grid search\n",
    "print(\"End search time:\", datetime.now())\n",
    "\n",
    "# confusion matrix \n",
    "\n",
    "final_model_rf = grid.best_estimator_\n",
    "\n",
    "y_pred = final_model_rf.predict(X_test)\n",
    "\n",
    "# get accuracy and confusion matrix\n",
    "accuracy = metrics.accuracy_score(y_test, y_pred)\n",
    "print(\"\\nAccuracy:\", accuracy)\n",
    "\n",
    "cm = metrics.confusion_matrix(y_test,y_pred) # row - true value; column - predicted\n",
    "disp = metrics.ConfusionMatrixDisplay(confusion_matrix=cm).plot()\n"
   ]
  },
  {
   "cell_type": "code",
   "execution_count": 33,
   "id": "f4310f93",
   "metadata": {},
   "outputs": [
    {
     "name": "stdout",
     "output_type": "stream",
     "text": [
      "\n",
      "Accuracy: 0.7466039707419018\n",
      "\n",
      "Confusion Matrix:\n",
      " [[1402   48]\n",
      " [ 437   27]]\n"
     ]
    }
   ],
   "source": [
    "# SVM with linear kernel\n",
    "\n",
    "from sklearn.svm import SVC\n",
    "\n",
    "\n",
    "svm_classifier = SVC(kernel='linear', random_state=42)\n",
    "\n",
    "\n",
    "svm_classifier.fit(X_train, y_train)\n",
    "\n",
    "y_pred_svm = svm_classifier.predict(X_test)\n",
    "\n",
    "\n",
    "accuracy = metrics.accuracy_score(y_test, y_pred_svm)\n",
    "\n",
    "\n",
    "conf_matrix = metrics.confusion_matrix(y_test, y_pred_svm)\n",
    "\n",
    "print(\"\\nAccuracy:\", accuracy)\n",
    "print(\"\\nConfusion Matrix:\\n\", conf_matrix)\n"
   ]
  },
  {
   "cell_type": "code",
   "execution_count": 35,
   "id": "29fc0b40",
   "metadata": {},
   "outputs": [
    {
     "name": "stdout",
     "output_type": "stream",
     "text": [
      "\n",
      "Accuracy: 0.7575757575757576\n",
      "\n",
      "Confusion Matrix:\n",
      " [[1450    0]\n",
      " [ 464    0]]\n"
     ]
    }
   ],
   "source": [
    "# SVM with radial kernel\n",
    "\n",
    "from sklearn.svm import SVC\n",
    "\n",
    "\n",
    "svm_classifier = SVC(kernel='rbf', random_state=42)\n",
    "\n",
    "\n",
    "svm_classifier.fit(X_train, y_train)\n",
    "\n",
    "y_pred_svm = svm_classifier.predict(X_test)\n",
    "\n",
    "\n",
    "accuracy = metrics.accuracy_score(y_test, y_pred_svm)\n",
    "\n",
    "\n",
    "conf_matrix = metrics.confusion_matrix(y_test, y_pred_svm)\n",
    "\n",
    "print(\"\\nAccuracy:\", accuracy)\n",
    "print(\"\\nConfusion Matrix:\\n\", conf_matrix)\n"
   ]
  },
  {
   "cell_type": "code",
   "execution_count": 9,
   "id": "9b1ba877",
   "metadata": {
    "scrolled": true
   },
   "outputs": [
    {
     "name": "stdout",
     "output_type": "stream",
     "text": [
      "Start search time: 2024-03-05 10:58:52.810412\n",
      "Fitting 3 folds for each of 32 candidates, totalling 96 fits\n",
      "[CV 1/3] END ..C=1e-05, gamma=1e-05, kernel=rbf;, score=0.759 total time=   0.3s\n",
      "[CV 2/3] END ..C=1e-05, gamma=1e-05, kernel=rbf;, score=0.759 total time=   0.3s\n",
      "[CV 3/3] END ..C=1e-05, gamma=1e-05, kernel=rbf;, score=0.760 total time=   0.3s\n",
      "[CV 1/3] END C=1e-05, gamma=1e-05, kernel=linear;, score=0.759 total time= 1.9min\n",
      "[CV 2/3] END C=1e-05, gamma=1e-05, kernel=linear;, score=0.759 total time= 2.1min\n",
      "[CV 3/3] END C=1e-05, gamma=1e-05, kernel=linear;, score=0.760 total time= 2.0min\n",
      "[CV 1/3] END .C=1e-05, gamma=0.0001, kernel=rbf;, score=0.759 total time=   0.3s\n",
      "[CV 2/3] END .C=1e-05, gamma=0.0001, kernel=rbf;, score=0.759 total time=   0.3s\n",
      "[CV 3/3] END .C=1e-05, gamma=0.0001, kernel=rbf;, score=0.760 total time=   0.3s\n",
      "[CV 1/3] END C=1e-05, gamma=0.0001, kernel=linear;, score=0.759 total time= 1.9min\n",
      "[CV 2/3] END C=1e-05, gamma=0.0001, kernel=linear;, score=0.759 total time= 2.1min\n",
      "[CV 3/3] END C=1e-05, gamma=0.0001, kernel=linear;, score=0.760 total time= 2.0min\n",
      "[CV 1/3] END ..C=1e-05, gamma=0.001, kernel=rbf;, score=0.759 total time=   0.3s\n",
      "[CV 2/3] END ..C=1e-05, gamma=0.001, kernel=rbf;, score=0.759 total time=   0.3s\n",
      "[CV 3/3] END ..C=1e-05, gamma=0.001, kernel=rbf;, score=0.760 total time=   0.3s\n",
      "[CV 1/3] END C=1e-05, gamma=0.001, kernel=linear;, score=0.759 total time= 1.9min\n",
      "[CV 2/3] END C=1e-05, gamma=0.001, kernel=linear;, score=0.759 total time= 2.1min\n",
      "[CV 3/3] END C=1e-05, gamma=0.001, kernel=linear;, score=0.760 total time= 2.0min\n",
      "[CV 1/3] END ...C=1e-05, gamma=0.01, kernel=rbf;, score=0.759 total time=   0.3s\n",
      "[CV 2/3] END ...C=1e-05, gamma=0.01, kernel=rbf;, score=0.759 total time=   0.3s\n",
      "[CV 3/3] END ...C=1e-05, gamma=0.01, kernel=rbf;, score=0.760 total time=   0.3s\n",
      "[CV 1/3] END C=1e-05, gamma=0.01, kernel=linear;, score=0.759 total time= 1.9min\n",
      "[CV 2/3] END C=1e-05, gamma=0.01, kernel=linear;, score=0.759 total time= 2.1min\n",
      "[CV 3/3] END C=1e-05, gamma=0.01, kernel=linear;, score=0.760 total time= 2.0min\n",
      "[CV 1/3] END .C=0.0001, gamma=1e-05, kernel=rbf;, score=0.759 total time=   0.3s\n",
      "[CV 2/3] END .C=0.0001, gamma=1e-05, kernel=rbf;, score=0.759 total time=   0.3s\n",
      "[CV 3/3] END .C=0.0001, gamma=1e-05, kernel=rbf;, score=0.760 total time=   0.3s\n",
      "[CV 1/3] END C=0.0001, gamma=1e-05, kernel=linear;, score=0.752 total time= 2.0min\n",
      "[CV 2/3] END C=0.0001, gamma=1e-05, kernel=linear;, score=0.754 total time= 2.1min\n",
      "[CV 3/3] END C=0.0001, gamma=1e-05, kernel=linear;, score=0.742 total time= 1.7min\n",
      "[CV 1/3] END C=0.0001, gamma=0.0001, kernel=rbf;, score=0.759 total time=   0.3s\n",
      "[CV 2/3] END C=0.0001, gamma=0.0001, kernel=rbf;, score=0.759 total time=   0.3s\n",
      "[CV 3/3] END C=0.0001, gamma=0.0001, kernel=rbf;, score=0.760 total time=   0.3s\n",
      "[CV 1/3] END C=0.0001, gamma=0.0001, kernel=linear;, score=0.752 total time= 2.0min\n",
      "[CV 2/3] END C=0.0001, gamma=0.0001, kernel=linear;, score=0.754 total time= 2.1min\n",
      "[CV 3/3] END C=0.0001, gamma=0.0001, kernel=linear;, score=0.742 total time= 1.7min\n",
      "[CV 1/3] END .C=0.0001, gamma=0.001, kernel=rbf;, score=0.759 total time=   0.3s\n",
      "[CV 2/3] END .C=0.0001, gamma=0.001, kernel=rbf;, score=0.759 total time=   0.3s\n",
      "[CV 3/3] END .C=0.0001, gamma=0.001, kernel=rbf;, score=0.760 total time=   0.3s\n",
      "[CV 1/3] END C=0.0001, gamma=0.001, kernel=linear;, score=0.752 total time= 1.9min\n",
      "[CV 2/3] END C=0.0001, gamma=0.001, kernel=linear;, score=0.754 total time= 2.1min\n",
      "[CV 3/3] END C=0.0001, gamma=0.001, kernel=linear;, score=0.742 total time= 1.7min\n",
      "[CV 1/3] END ..C=0.0001, gamma=0.01, kernel=rbf;, score=0.759 total time=   0.3s\n",
      "[CV 2/3] END ..C=0.0001, gamma=0.01, kernel=rbf;, score=0.759 total time=   0.3s\n",
      "[CV 3/3] END ..C=0.0001, gamma=0.01, kernel=rbf;, score=0.760 total time=   0.3s\n",
      "[CV 1/3] END C=0.0001, gamma=0.01, kernel=linear;, score=0.752 total time= 1.9min\n",
      "[CV 2/3] END C=0.0001, gamma=0.01, kernel=linear;, score=0.754 total time= 2.3min\n",
      "[CV 3/3] END C=0.0001, gamma=0.01, kernel=linear;, score=0.742 total time= 1.9min\n",
      "[CV 1/3] END ..C=0.001, gamma=1e-05, kernel=rbf;, score=0.759 total time=   0.3s\n",
      "[CV 2/3] END ..C=0.001, gamma=1e-05, kernel=rbf;, score=0.759 total time=   0.3s\n",
      "[CV 3/3] END ..C=0.001, gamma=1e-05, kernel=rbf;, score=0.760 total time=   0.3s\n",
      "[CV 1/3] END C=0.001, gamma=1e-05, kernel=linear;, score=0.749 total time= 1.6min\n",
      "[CV 2/3] END C=0.001, gamma=1e-05, kernel=linear;, score=0.756 total time= 1.9min\n",
      "[CV 3/3] END C=0.001, gamma=1e-05, kernel=linear;, score=0.743 total time= 2.8min\n",
      "[CV 1/3] END .C=0.001, gamma=0.0001, kernel=rbf;, score=0.759 total time=   0.6s\n",
      "[CV 2/3] END .C=0.001, gamma=0.0001, kernel=rbf;, score=0.759 total time=   0.6s\n",
      "[CV 3/3] END .C=0.001, gamma=0.0001, kernel=rbf;, score=0.760 total time=   0.6s\n",
      "[CV 1/3] END C=0.001, gamma=0.0001, kernel=linear;, score=0.749 total time= 2.5min\n",
      "[CV 2/3] END C=0.001, gamma=0.0001, kernel=linear;, score=0.756 total time= 2.6min\n",
      "[CV 3/3] END C=0.001, gamma=0.0001, kernel=linear;, score=0.743 total time= 2.8min\n",
      "[CV 1/3] END ..C=0.001, gamma=0.001, kernel=rbf;, score=0.759 total time=   0.6s\n",
      "[CV 2/3] END ..C=0.001, gamma=0.001, kernel=rbf;, score=0.759 total time=   0.6s\n",
      "[CV 3/3] END ..C=0.001, gamma=0.001, kernel=rbf;, score=0.760 total time=   0.6s\n",
      "[CV 1/3] END C=0.001, gamma=0.001, kernel=linear;, score=0.749 total time= 2.4min\n",
      "[CV 2/3] END C=0.001, gamma=0.001, kernel=linear;, score=0.756 total time= 2.5min\n",
      "[CV 3/3] END C=0.001, gamma=0.001, kernel=linear;, score=0.743 total time= 2.7min\n",
      "[CV 1/3] END ...C=0.001, gamma=0.01, kernel=rbf;, score=0.759 total time=   0.6s\n",
      "[CV 2/3] END ...C=0.001, gamma=0.01, kernel=rbf;, score=0.759 total time=   0.6s\n",
      "[CV 3/3] END ...C=0.001, gamma=0.01, kernel=rbf;, score=0.760 total time=   0.6s\n",
      "[CV 1/3] END C=0.001, gamma=0.01, kernel=linear;, score=0.749 total time= 2.5min\n",
      "[CV 2/3] END C=0.001, gamma=0.01, kernel=linear;, score=0.756 total time= 2.5min\n",
      "[CV 3/3] END C=0.001, gamma=0.01, kernel=linear;, score=0.743 total time= 2.7min\n",
      "[CV 1/3] END ...C=0.01, gamma=1e-05, kernel=rbf;, score=0.759 total time=   0.9s\n",
      "[CV 2/3] END ...C=0.01, gamma=1e-05, kernel=rbf;, score=0.759 total time=   0.9s\n",
      "[CV 3/3] END ...C=0.01, gamma=1e-05, kernel=rbf;, score=0.760 total time=   0.8s\n",
      "[CV 1/3] END C=0.01, gamma=1e-05, kernel=linear;, score=0.753 total time= 2.4min\n",
      "[CV 2/3] END C=0.01, gamma=1e-05, kernel=linear;, score=0.757 total time= 3.1min\n",
      "[CV 3/3] END C=0.01, gamma=1e-05, kernel=linear;, score=0.742 total time= 3.2min\n",
      "[CV 1/3] END ..C=0.01, gamma=0.0001, kernel=rbf;, score=0.759 total time=   0.9s\n",
      "[CV 2/3] END ..C=0.01, gamma=0.0001, kernel=rbf;, score=0.759 total time=   0.9s\n",
      "[CV 3/3] END ..C=0.01, gamma=0.0001, kernel=rbf;, score=0.760 total time=   0.9s\n",
      "[CV 1/3] END C=0.01, gamma=0.0001, kernel=linear;, score=0.753 total time= 2.4min\n",
      "[CV 2/3] END C=0.01, gamma=0.0001, kernel=linear;, score=0.757 total time= 3.2min\n",
      "[CV 3/3] END C=0.01, gamma=0.0001, kernel=linear;, score=0.742 total time= 3.3min\n",
      "[CV 1/3] END ...C=0.01, gamma=0.001, kernel=rbf;, score=0.759 total time=   0.8s\n",
      "[CV 2/3] END ...C=0.01, gamma=0.001, kernel=rbf;, score=0.759 total time=   0.8s\n",
      "[CV 3/3] END ...C=0.01, gamma=0.001, kernel=rbf;, score=0.760 total time=   0.8s\n",
      "[CV 1/3] END C=0.01, gamma=0.001, kernel=linear;, score=0.753 total time= 2.4min\n",
      "[CV 2/3] END C=0.01, gamma=0.001, kernel=linear;, score=0.757 total time= 3.1min\n",
      "[CV 3/3] END C=0.01, gamma=0.001, kernel=linear;, score=0.742 total time= 3.3min\n",
      "[CV 1/3] END ....C=0.01, gamma=0.01, kernel=rbf;, score=0.759 total time=   0.9s\n",
      "[CV 2/3] END ....C=0.01, gamma=0.01, kernel=rbf;, score=0.759 total time=   0.8s\n",
      "[CV 3/3] END ....C=0.01, gamma=0.01, kernel=rbf;, score=0.760 total time=   0.8s\n",
      "[CV 1/3] END .C=0.01, gamma=0.01, kernel=linear;, score=0.753 total time= 2.4min\n",
      "[CV 2/3] END .C=0.01, gamma=0.01, kernel=linear;, score=0.757 total time= 3.2min\n",
      "[CV 3/3] END .C=0.01, gamma=0.01, kernel=linear;, score=0.742 total time= 3.2min\n",
      "Best parameters: {'C': 1e-05, 'gamma': 1e-05, 'kernel': 'rbf'}\n",
      "Best estimator: SVC(C=1e-05, gamma=1e-05, random_state=42)\n",
      "End search time: 2024-03-05 12:51:27.255207\n"
     ]
    }
   ],
   "source": [
    "# SVM - Fine tuning with GridSearchCV\n",
    "# using datetime to time the fine tuning process\n",
    "from sklearn.svm import SVC\n",
    "from datetime import datetime\n",
    "print(\"Start search time:\", datetime.now())\n",
    "\n",
    "# find the best parameters\n",
    "from sklearn.model_selection import GridSearchCV\n",
    "\n",
    "# SVM -- Tunning parameters\n",
    "param = {\n",
    "    'C':[.00001, .0001, .001, 0.01],\n",
    "    'gamma': [.00001, .0001, .001, .01], # 1/n_features\n",
    "    'kernel': ['rbf','linear']\n",
    "}\n",
    "\n",
    "SVM = SVC(random_state=42)\n",
    "\n",
    "\n",
    "# search parameters: cv=cross validation blocks; verbose=higher value show more steps\n",
    "# n_jobs=-1 uses all available CPU cores;\n",
    "grid = GridSearchCV(estimator= SVM,\n",
    "                    param_grid=param,\n",
    "                    verbose=3, cv=3,\n",
    "                    refit=True)\n",
    "\n",
    "grid.fit(X_train, y_train)\n",
    "\n",
    "print(\"Best parameters:\", grid.best_params_)\n",
    "\n",
    "print(\"Best estimator:\", grid.best_estimator_)\n",
    "\n",
    "# end grid search\n",
    "print(\"End search time:\", datetime.now())"
   ]
  },
  {
   "cell_type": "code",
   "execution_count": 13,
   "id": "f23ee4a7",
   "metadata": {},
   "outputs": [],
   "source": [
    "from matplotlib import pyplot as plt"
   ]
  },
  {
   "cell_type": "code",
   "execution_count": 14,
   "id": "ff43598f",
   "metadata": {},
   "outputs": [
    {
     "name": "stdout",
     "output_type": "stream",
     "text": [
      "\n",
      "Accuracy: 0.7575757575757576\n"
     ]
    },
    {
     "data": {
      "image/png": "[encoded data removed]",
      "text/plain": [
       "<Figure size 432x288 with 2 Axes>"
      ]
     },
     "metadata": {
      "needs_background": "light"
     },
     "output_type": "display_data"
    }
   ],
   "source": [
    "# confusion matrix\n",
    "\n",
    "final_model_svm = grid.best_estimator_\n",
    "\n",
    "y_pred = final_model_svm.predict(X_test)\n",
    "\n",
    "# get accuracy and confusion matrix\n",
    "accuracy = metrics.accuracy_score(y_test, y_pred)\n",
    "print(\"\\nAccuracy:\", accuracy)\n",
    "\n",
    "cm = metrics.confusion_matrix(y_test,y_pred) # row - true value; column - predicted\n",
    "disp = metrics.ConfusionMatrixDisplay(confusion_matrix=cm).plot()\n",
    "# disp.plot()\n",
    "plt.show() # display all open figures"
   ]
  },
  {
   "cell_type": "code",
   "execution_count": 9,
   "id": "ad1ae678",
   "metadata": {},
   "outputs": [
    {
     "ename": "NameError",
     "evalue": "name 'uniform' is not defined",
     "output_type": "error",
     "traceback": [
      "\u001b[0;31m---------------------------------------------------------------------------\u001b[0m",
      "\u001b[0;31mNameError\u001b[0m                                 Traceback (most recent call last)",
      "\u001b[0;32m/var/folders/m6/6blw45qs49z78g55dgxdqzrh0000gn/T/ipykernel_43342/3202959000.py\u001b[0m in \u001b[0;36m<module>\u001b[0;34m\u001b[0m\n\u001b[1;32m      1\u001b[0m param = {\n\u001b[1;32m      2\u001b[0m \u001b[0;34m\u001b[0m\u001b[0m\n\u001b[0;32m----> 3\u001b[0;31m                 \u001b[0;34m'C'\u001b[0m\u001b[0;34m:\u001b[0m \u001b[0muniform\u001b[0m\u001b[0;34m(\u001b[0m\u001b[0;36m0.1\u001b[0m\u001b[0;34m,\u001b[0m \u001b[0;36m10\u001b[0m\u001b[0;34m)\u001b[0m\u001b[0;34m,\u001b[0m \u001b[0;31m# regularization parameter from a uniform                                                              distribution\u001b[0m\u001b[0;34m\u001b[0m\u001b[0;34m\u001b[0m\u001b[0m\n\u001b[0m\u001b[1;32m      4\u001b[0m \u001b[0;34m\u001b[0m\u001b[0m\n\u001b[1;32m      5\u001b[0m                 \u001b[0;34m'kernel'\u001b[0m\u001b[0;34m:\u001b[0m \u001b[0;34m[\u001b[0m\u001b[0;34m'linear'\u001b[0m\u001b[0;34m,\u001b[0m \u001b[0;34m'rbf'\u001b[0m\u001b[0;34m]\u001b[0m\u001b[0;34m,\u001b[0m\u001b[0;34m\u001b[0m\u001b[0;34m\u001b[0m\u001b[0m\n",
      "\u001b[0;31mNameError\u001b[0m: name 'uniform' is not defined"
     ]
    }
   ],
   "source": [
    "from sklearn.svm import SVC\n",
    "from sklearn.model_selection import GridSearchCV\n",
    "\n",
    "param = {\n",
    "\n",
    "                'C': uniform(0.1, 10), # regularization parameter from a uniform                                                              distribution\n",
    "\n",
    "                'kernel': ['linear', 'rbf'],\n",
    "\n",
    "                'gamma': reciprocal(0.001, 0.1)\n",
    "\n",
    "}\n",
    "\n",
    "random_search = RandomSearchCV(estimator=SVM, param_grid=param, cv=3, verbose=1, scoring=\"accuracy\")"
   ]
  }
 ],
 "metadata": {
  "kernelspec": {
   "display_name": "Python 3 (ipykernel)",
   "language": "python",
   "name": "python3"
  },
  "language_info": {
   "codemirror_mode": {
    "name": "ipython",
    "version": 3
   },
   "file_extension": ".py",
   "mimetype": "text/x-python",
   "name": "python",
   "nbconvert_exporter": "python",
   "pygments_lexer": "ipython3",
   "version": "3.9.19"
  }
 },
 "nbformat": 4,
 "nbformat_minor": 5
}
